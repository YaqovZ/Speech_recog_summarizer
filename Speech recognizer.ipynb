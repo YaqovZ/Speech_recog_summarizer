{
 "cells": [
  {
   "cell_type": "markdown",
   "id": "ad42bdb2",
   "metadata": {},
   "source": [
    "To be able to use a selected pre-trained model to recognize speech, we need to import the necessary vosk classes, load the model into our IDE, and initialize a recognizer.\n",
    "\n",
    "When initializing a recognizer, apart from the selected model, we have to provide also a sampling rate (aka frame rate) that determines the quality of audio. For speech recognition tasks, the optimal value of the frame rate is 16,000.\n",
    "\n",
    "In addition, we may want to have not only the complete transcript of our audio file but also individual words in the model, as well as the model's confidence in those words. This could be helpful if we want to correct eventual mistakes."
   ]
  },
  {
   "cell_type": "code",
   "execution_count": 1,
   "id": "dd6408ed",
   "metadata": {},
   "outputs": [
    {
     "name": "stderr",
     "output_type": "stream",
     "text": [
      "LOG (VoskAPI:ReadDataFiles():model.cc:213) Decoding params beam=10 max-active=3000 lattice-beam=2\n",
      "LOG (VoskAPI:ReadDataFiles():model.cc:216) Silence phones 1:2:3:4:5:6:7:8:9:10\n",
      "LOG (VoskAPI:RemoveOrphanNodes():nnet-nnet.cc:948) Removed 0 orphan nodes.\n",
      "LOG (VoskAPI:RemoveOrphanComponents():nnet-nnet.cc:847) Removing 0 orphan components.\n",
      "LOG (VoskAPI:ReadDataFiles():model.cc:248) Loading i-vector extractor from /Users/jacobzhao/.cache/vosk/vosk-model-small-en-us-0.15/ivector/final.ie\n",
      "LOG (VoskAPI:ComputeDerivedVars():ivector-extractor.cc:183) Computing derived variables for iVector extractor\n",
      "LOG (VoskAPI:ComputeDerivedVars():ivector-extractor.cc:204) Done.\n",
      "LOG (VoskAPI:ReadDataFiles():model.cc:282) Loading HCL and G from /Users/jacobzhao/.cache/vosk/vosk-model-small-en-us-0.15/graph/HCLr.fst /Users/jacobzhao/.cache/vosk/vosk-model-small-en-us-0.15/graph/Gr.fst\n",
      "LOG (VoskAPI:ReadDataFiles():model.cc:303) Loading winfo /Users/jacobzhao/.cache/vosk/vosk-model-small-en-us-0.15/graph/phones/word_boundary.int\n"
     ]
    }
   ],
   "source": [
    "from vosk import Model, KaldiRecognizer\n",
    "SAMPLE_RATE = 16000\n",
    "model = Model(lang=\"en-us\")\n",
    "rec = KaldiRecognizer(model, SAMPLE_RATE)"
   ]
  },
  {
   "cell_type": "code",
   "execution_count": 2,
   "id": "3c4ddb95",
   "metadata": {},
   "outputs": [],
   "source": [
    "rec.SetWords(True)"
   ]
  },
  {
   "cell_type": "code",
   "execution_count": 3,
   "id": "2c3aee36",
   "metadata": {},
   "outputs": [],
   "source": [
    "from pydub import AudioSegment\n",
    "import os"
   ]
  },
  {
   "cell_type": "code",
   "execution_count": 4,
   "id": "aa90b023",
   "metadata": {},
   "outputs": [],
   "source": [
    "marketplace_path = os.path.join(os.getcwd(), 'marketplace.mp3')\n",
    "marketplace_full_path = os.path.join(os.getcwd(), 'marketplace_full.mp3')"
   ]
  },
  {
   "cell_type": "code",
   "execution_count": 5,
   "id": "869573a9",
   "metadata": {},
   "outputs": [],
   "source": [
    "marketplace = AudioSegment.from_mp3(marketplace_path)\n",
    "marketplace_full = AudioSegment.from_mp3(marketplace_full_path)"
   ]
  },
  {
   "cell_type": "code",
   "execution_count": 6,
   "id": "32638bc4",
   "metadata": {},
   "outputs": [],
   "source": [
    "CHANNELS = 1\n",
    "FRAME_RATE = 16000\n",
    "marketplace = marketplace.set_channels(CHANNELS)\n",
    "marketplace = marketplace.set_frame_rate(FRAME_RATE)"
   ]
  },
  {
   "cell_type": "code",
   "execution_count": 15,
   "id": "581b644a",
   "metadata": {},
   "outputs": [],
   "source": [
    "rec.AcceptWaveform(marketplace.raw_data)\n",
    "marketplace_result = rec.Result()"
   ]
  },
  {
   "cell_type": "code",
   "execution_count": 16,
   "id": "9ce26e35",
   "metadata": {},
   "outputs": [
    {
     "data": {
      "text/plain": [
       "'{\\n  \"result\" : [{\\n      \"conf\" : 0.521135,\\n      \"end\" : 137.910000,\\n      \"start\" : 137.760000,\\n      \"word\" : \"who\"\\n    }, {\\n      \"conf\" : 0.829375,\\n      \"end\" : 138.060000,\\n      \"start\" : 138.000000,\\n      \"word\" : \"are\"\\n    }, {\\n      \"conf\" : 1.000000,\\n      \"end\" : 138.150000,\\n      \"start\" : 138.060000,\\n      \"word\" : \"the\"\\n    }, {\\n      \"conf\" : 1.000000,\\n      \"end\" : 138.540000,\\n      \"start\" : 138.150000,\\n      \"word\" : \"funny\"\\n    }, {\\n      \"conf\" : 1.000000,\\n      \"end\" : 138.960000,\\n      \"start\" : 138.540000,\\n      \"word\" : \"thing\"\\n    }, {\\n      \"conf\" : 1.000000,\\n      \"end\" : 139.200000,\\n      \"start\" : 138.960000,\\n      \"word\" : \"about\"\\n    }, {\\n      \"conf\" : 1.000000,\\n      \"end\" : 139.290000,\\n      \"start\" : 139.200000,\\n      \"word\" : \"the\"\\n    }, {\\n      \"conf\" : 1.000000,\\n      \"end\" : 139.680000,\\n      \"start\" : 139.290000,\\n      \"word\" : \"big\"\\n    }, {\\n      \"conf\" : 1.000000,\\n      \"end\" : 140.220000,\\n      \"start\" : 139.710000,\\n      \"word\" : \"economic\"\\n    }, {\\n      \"conf\" : 1.000000,\\n      \"end\" : 140.460000,\\n      \"start\" : 140.220000,\\n      \"word\" : \"news\"\\n    }, {\\n      \"conf\" : 1.000000,\\n      \"end\" : 140.550000,\\n      \"start\" : 140.460000,\\n      \"word\" : \"of\"\\n    }, {\\n      \"conf\" : 1.000000,\\n      \"end\" : 140.640000,\\n      \"start\" : 140.550000,\\n      \"word\" : \"the\"\\n    }, {\\n      \"conf\" : 1.000000,\\n      \"end\" : 141.030000,\\n      \"start\" : 140.640000,\\n      \"word\" : \"day\"\\n    }, {\\n      \"conf\" : 1.000000,\\n      \"end\" : 141.720000,\\n      \"start\" : 141.600000,\\n      \"word\" : \"the\"\\n    }, {\\n      \"conf\" : 1.000000,\\n      \"end\" : 141.960000,\\n      \"start\" : 141.720000,\\n      \"word\" : \"fed\"\\n    }, {\\n      \"conf\" : 1.000000,\\n      \"end\" : 142.260000,\\n      \"start\" : 141.960000,\\n      \"word\" : \"raising\"\\n    }, {\\n      \"conf\" : 1.000000,\\n      \"end\" : 142.590000,\\n      \"start\" : 142.260000,\\n      \"word\" : \"interest\"\\n    }, {\\n      \"conf\" : 1.000000,\\n      \"end\" : 142.980000,\\n      \"start\" : 142.590000,\\n      \"word\" : \"rates\"\\n    }, {\\n      \"conf\" : 0.718440,\\n      \"end\" : 143.272603,\\n      \"start\" : 143.010000,\\n      \"word\" : \"have\"\\n    }, {\\n      \"conf\" : 1.000000,\\n      \"end\" : 143.310000,\\n      \"start\" : 143.272603,\\n      \"word\" : \"a\"\\n    }, {\\n      \"conf\" : 1.000000,\\n      \"end\" : 143.730000,\\n      \"start\" : 143.310000,\\n      \"word\" : \"percentage\"\\n    }, {\\n      \"conf\" : 1.000000,\\n      \"end\" : 144.000000,\\n      \"start\" : 143.730000,\\n      \"word\" : \"point\"\\n    }, {\\n      \"conf\" : 1.000000,\\n      \"end\" : 144.840000,\\n      \"start\" : 144.630000,\\n      \"word\" : \"was\"\\n    }, {\\n      \"conf\" : 1.000000,\\n      \"end\" : 144.960000,\\n      \"start\" : 144.840000,\\n      \"word\" : \"that\"\\n    }, {\\n      \"conf\" : 1.000000,\\n      \"end\" : 145.080000,\\n      \"start\" : 144.960000,\\n      \"word\" : \"there\"\\n    }, {\\n      \"conf\" : 1.000000,\\n      \"end\" : 145.200000,\\n      \"start\" : 145.080000,\\n      \"word\" : \"was\"\\n    }, {\\n      \"conf\" : 1.000000,\\n      \"end\" : 145.470000,\\n      \"start\" : 145.200000,\\n      \"word\" : \"only\"\\n    }, {\\n      \"conf\" : 1.000000,\\n      \"end\" : 145.770000,\\n      \"start\" : 145.470000,\\n      \"word\" : \"really\"\\n    }, {\\n      \"conf\" : 0.587417,\\n      \"end\" : 146.100000,\\n      \"start\" : 145.770000,\\n      \"word\" : \"one\"\\n    }, {\\n      \"conf\" : 0.709894,\\n      \"end\" : 146.640000,\\n      \"start\" : 146.430000,\\n      \"word\" : \"bit\"\\n    }, {\\n      \"conf\" : 1.000000,\\n      \"end\" : 146.820000,\\n      \"start\" : 146.640000,\\n      \"word\" : \"of\"\\n    }, {\\n      \"conf\" : 1.000000,\\n      \"end\" : 147.270000,\\n      \"start\" : 146.820000,\\n      \"word\" : \"actual\"\\n    }, {\\n      \"conf\" : 1.000000,\\n      \"end\" : 147.660000,\\n      \"start\" : 147.270000,\\n      \"word\" : \"news\"\\n    }, {\\n      \"conf\" : 1.000000,\\n      \"end\" : 147.780000,\\n      \"start\" : 147.660000,\\n      \"word\" : \"in\"\\n    }, {\\n      \"conf\" : 1.000000,\\n      \"end\" : 147.870000,\\n      \"start\" : 147.780000,\\n      \"word\" : \"the\"\\n    }, {\\n      \"conf\" : 1.000000,\\n      \"end\" : 148.260000,\\n      \"start\" : 147.870000,\\n      \"word\" : \"news\"\\n    }, {\\n      \"conf\" : 1.000000,\\n      \"end\" : 148.470000,\\n      \"start\" : 148.260000,\\n      \"word\" : \"and\"\\n    }, {\\n      \"conf\" : 1.000000,\\n      \"end\" : 148.590000,\\n      \"start\" : 148.470000,\\n      \"word\" : \"the\"\\n    }, {\\n      \"conf\" : 1.000000,\\n      \"end\" : 148.980000,\\n      \"start\" : 148.590000,\\n      \"word\" : \"interest\"\\n    }, {\\n      \"conf\" : 1.000000,\\n      \"end\" : 149.190000,\\n      \"start\" : 148.980000,\\n      \"word\" : \"rate\"\\n    }, {\\n      \"conf\" : 1.000000,\\n      \"end\" : 149.760000,\\n      \"start\" : 149.190000,\\n      \"word\" : \"increase\"\\n    }, {\\n      \"conf\" : 1.000000,\\n      \"end\" : 150.870000,\\n      \"start\" : 150.240000,\\n      \"word\" : \"wasn\\'t\"\\n    }, {\\n      \"conf\" : 1.000000,\\n      \"end\" : 151.350000,\\n      \"start\" : 150.990000,\\n      \"word\" : \"it\"\\n    }, {\\n      \"conf\" : 1.000000,\\n      \"end\" : 151.620000,\\n      \"start\" : 151.380000,\\n      \"word\" : \"you\"\\n    }, {\\n      \"conf\" : 1.000000,\\n      \"end\" : 151.770000,\\n      \"start\" : 151.620000,\\n      \"word\" : \"know\"\\n    }, {\\n      \"conf\" : 1.000000,\\n      \"end\" : 151.890000,\\n      \"start\" : 151.770000,\\n      \"word\" : \"it\"\\n    }, {\\n      \"conf\" : 1.000000,\\n      \"end\" : 152.010000,\\n      \"start\" : 151.890000,\\n      \"word\" : \"was\"\\n    }, {\\n      \"conf\" : 1.000000,\\n      \"end\" : 152.400000,\\n      \"start\" : 152.010000,\\n      \"word\" : \"common\"\\n    }, {\\n      \"conf\" : 1.000000,\\n      \"end\" : 152.850000,\\n      \"start\" : 152.580000,\\n      \"word\" : \"i\"\\n    }, {\\n      \"conf\" : 1.000000,\\n      \"end\" : 153.030000,\\n      \"start\" : 152.850000,\\n      \"word\" : \"know\"\\n    }, {\\n      \"conf\" : 1.000000,\\n      \"end\" : 153.150000,\\n      \"start\" : 153.030000,\\n      \"word\" : \"it\"\\n    }, {\\n      \"conf\" : 1.000000,\\n      \"end\" : 153.300000,\\n      \"start\" : 153.150000,\\n      \"word\" : \"was\"\\n    }, {\\n      \"conf\" : 1.000000,\\n      \"end\" : 153.660000,\\n      \"start\" : 153.300000,\\n      \"word\" : \"common\"\\n    }, {\\n      \"conf\" : 0.660693,\\n      \"end\" : 154.110000,\\n      \"start\" : 153.690000,\\n      \"word\" : \"wall\"\\n    }, {\\n      \"conf\" : 0.660693,\\n      \"end\" : 154.470000,\\n      \"start\" : 154.110000,\\n      \"word\" : \"street\"\\n    }, {\\n      \"conf\" : 1.000000,\\n      \"end\" : 154.860000,\\n      \"start\" : 154.470000,\\n      \"word\" : \"news\"\\n    }, {\\n      \"conf\" : 0.567008,\\n      \"end\" : 155.190000,\\n      \"start\" : 154.860000,\\n      \"word\" : \"common\"\\n    }, {\\n      \"conf\" : 1.000000,\\n      \"end\" : 156.210000,\\n      \"start\" : 155.220000,\\n      \"word\" : \"businesses\"\\n    }, {\\n      \"conf\" : 0.817137,\\n      \"end\" : 156.600000,\\n      \"start\" : 156.240000,\\n      \"word\" : \"knew\"\\n    }, {\\n      \"conf\" : 1.000000,\\n      \"end\" : 156.750000,\\n      \"start\" : 156.600000,\\n      \"word\" : \"it\"\\n    }, {\\n      \"conf\" : 1.000000,\\n      \"end\" : 156.900000,\\n      \"start\" : 156.750000,\\n      \"word\" : \"was\"\\n    }, {\\n      \"conf\" : 0.640973,\\n      \"end\" : 157.290000,\\n      \"start\" : 156.900000,\\n      \"word\" : \"common\"\\n    }, {\\n      \"conf\" : 1.000000,\\n      \"end\" : 158.070000,\\n      \"start\" : 157.770000,\\n      \"word\" : \"so\"\\n    }, {\\n      \"conf\" : 1.000000,\\n      \"end\" : 158.430000,\\n      \"start\" : 158.070000,\\n      \"word\" : \"on\"\\n    }, {\\n      \"conf\" : 1.000000,\\n      \"end\" : 158.760000,\\n      \"start\" : 158.520000,\\n      \"word\" : \"this\"\\n    }, {\\n      \"conf\" : 1.000000,\\n      \"end\" : 159.000000,\\n      \"start\" : 158.760000,\\n      \"word\" : \"fed\"\\n    }, {\\n      \"conf\" : 1.000000,\\n      \"end\" : 159.210000,\\n      \"start\" : 159.000000,\\n      \"word\" : \"day\"\\n    }, {\\n      \"conf\" : 1.000000,\\n      \"end\" : 159.330000,\\n      \"start\" : 159.210000,\\n      \"word\" : \"on\"\\n    }, {\\n      \"conf\" : 1.000000,\\n      \"end\" : 159.480000,\\n      \"start\" : 159.330000,\\n      \"word\" : \"this\"\\n    }, {\\n      \"conf\" : 1.000000,\\n      \"end\" : 159.900000,\\n      \"start\" : 159.480000,\\n      \"word\" : \"program\"\\n    }, {\\n      \"conf\" : 1.000000,\\n      \"end\" : 160.290000,\\n      \"start\" : 159.900000,\\n      \"word\" : \"something\"\\n    }, {\\n      \"conf\" : 1.000000,\\n      \"end\" : 160.350000,\\n      \"start\" : 160.290000,\\n      \"word\" : \"a\"\\n    }, {\\n      \"conf\" : 1.000000,\\n      \"end\" : 160.530000,\\n      \"start\" : 160.350000,\\n      \"word\" : \"little\"\\n    }, {\\n      \"conf\" : 1.000000,\\n      \"end\" : 160.650000,\\n      \"start\" : 160.530000,\\n      \"word\" : \"bit\"\\n    }, {\\n      \"conf\" : 1.000000,\\n      \"end\" : 160.980000,\\n      \"start\" : 160.650000,\\n      \"word\" : \"different\"\\n    }, {\\n      \"conf\" : 0.553051,\\n      \"end\" : 161.220000,\\n      \"start\" : 160.980000,\\n      \"word\" : \"j\"\\n    }, {\\n      \"conf\" : 1.000000,\\n      \"end\" : 161.730000,\\n      \"start\" : 161.220000,\\n      \"word\" : \"powell\"\\n    }, {\\n      \"conf\" : 0.590288,\\n      \"end\" : 161.880000,\\n      \"start\" : 161.730000,\\n      \"word\" : \"in\"\\n    }, {\\n      \"conf\" : 1.000000,\\n      \"end\" : 162.030000,\\n      \"start\" : 161.880000,\\n      \"word\" : \"his\"\\n    }, {\\n      \"conf\" : 1.000000,\\n      \"end\" : 162.300000,\\n      \"start\" : 162.030000,\\n      \"word\" : \"own\"\\n    }, {\\n      \"conf\" : 1.000000,\\n      \"end\" : 162.630000,\\n      \"start\" : 162.300000,\\n      \"word\" : \"words\"\\n    }, {\\n      \"conf\" : 1.000000,\\n      \"end\" : 163.140000,\\n      \"start\" : 162.660000,\\n      \"word\" : \"five\"\\n    }, {\\n      \"conf\" : 1.000000,\\n      \"end\" : 163.260000,\\n      \"start\" : 163.140000,\\n      \"word\" : \"of\"\\n    }, {\\n      \"conf\" : 0.472630,\\n      \"end\" : 163.410000,\\n      \"start\" : 163.260000,\\n      \"word\" : \"i\\'m\"\\n    }, {\\n      \"conf\" : 1.000000,\\n      \"end\" : 163.650000,\\n      \"start\" : 163.410000,\\n      \"word\" : \"his\"\\n    }, {\\n      \"conf\" : 1.000000,\\n      \"end\" : 164.160000,\\n      \"start\" : 163.650000,\\n      \"word\" : \"most\"\\n    }, {\\n      \"conf\" : 1.000000,\\n      \"end\" : 164.640000,\\n      \"start\" : 164.190000,\\n      \"word\" : \"used\"\\n    }, {\\n      \"conf\" : 1.000000,\\n      \"end\" : 165.150000,\\n      \"start\" : 164.640000,\\n      \"word\" : \"economic\"\\n    }, {\\n      \"conf\" : 0.713557,\\n      \"end\" : 165.360000,\\n      \"start\" : 165.150000,\\n      \"word\" : \"words\"\\n    }, {\\n      \"conf\" : 1.000000,\\n      \"end\" : 165.540000,\\n      \"start\" : 165.360000,\\n      \"word\" : \"from\"\\n    }, {\\n      \"conf\" : 1.000000,\\n      \"end\" : 165.810000,\\n      \"start\" : 165.540000,\\n      \"word\" : \"today\\'s\"\\n    }, {\\n      \"conf\" : 1.000000,\\n      \"end\" : 166.020000,\\n      \"start\" : 165.810000,\\n      \"word\" : \"press\"\\n    }, {\\n      \"conf\" : 1.000000,\\n      \"end\" : 166.380000,\\n      \"start\" : 166.020000,\\n      \"word\" : \"conference\"\\n    }, {\\n      \"conf\" : 0.544137,\\n      \"end\" : 167.070000,\\n      \"start\" : 166.890000,\\n      \"word\" : \"where\"\\n    }, {\\n      \"conf\" : 1.000000,\\n      \"end\" : 167.310000,\\n      \"start\" : 167.070000,\\n      \"word\" : \"number\"\\n    }, {\\n      \"conf\" : 1.000000,\\n      \"end\" : 167.550000,\\n      \"start\" : 167.310000,\\n      \"word\" : \"one\"\\n    }, {\\n      \"conf\" : 1.000000,\\n      \"end\" : 167.640000,\\n      \"start\" : 167.550000,\\n      \"word\" : \"of\"\\n    }, {\\n      \"conf\" : 1.000000,\\n      \"end\" : 168.120000,\\n      \"start\" : 167.640000,\\n      \"word\" : \"course\"\\n    }, {\\n      \"conf\" : 1.000000,\\n      \"end\" : 168.360000,\\n      \"start\" : 168.150000,\\n      \"word\" : \"it\\'s\"\\n    }, {\\n      \"conf\" : 1.000000,\\n      \"end\" : 168.480000,\\n      \"start\" : 168.360000,\\n      \"word\" : \"the\"\\n    }, {\\n      \"conf\" : 0.518995,\\n      \"end\" : 168.810000,\\n      \"start\" : 168.480000,\\n      \"word\" : \"biggie\"\\n    }, {\\n      \"conf\" : 0.793940,\\n      \"end\" : 169.440000,\\n      \"start\" : 169.200000,\\n      \"word\" : \"two\"\\n    }, {\\n      \"conf\" : 1.000000,\\n      \"end\" : 169.860000,\\n      \"start\" : 169.440000,\\n      \"word\" : \"percent\"\\n    }, {\\n      \"conf\" : 1.000000,\\n      \"end\" : 170.400000,\\n      \"start\" : 169.920000,\\n      \"word\" : \"inflation\"\\n    }, {\\n      \"conf\" : 0.505446,\\n      \"end\" : 170.629102,\\n      \"start\" : 170.400000,\\n      \"word\" : \"flesh\"\\n    }, {\\n      \"conf\" : 0.467556,\\n      \"end\" : 170.726367,\\n      \"start\" : 170.640000,\\n      \"word\" : \"and\"\\n    }, {\\n      \"conf\" : 1.000000,\\n      \"end\" : 171.180000,\\n      \"start\" : 170.726367,\\n      \"word\" : \"inflation\"\\n    }, {\\n      \"conf\" : 1.000000,\\n      \"end\" : 171.810000,\\n      \"start\" : 171.180000,\\n      \"word\" : \"inflation\"\\n    }, {\\n      \"conf\" : 1.000000,\\n      \"end\" : 172.429321,\\n      \"start\" : 171.840000,\\n      \"word\" : \"inflation\"\\n    }, {\\n      \"conf\" : 0.644188,\\n      \"end\" : 172.710000,\\n      \"start\" : 172.440000,\\n      \"word\" : \"place\"\\n    }, {\\n      \"conf\" : 1.000000,\\n      \"end\" : 172.770000,\\n      \"start\" : 172.710000,\\n      \"word\" : \"in\"\\n    }, {\\n      \"conf\" : 1.000000,\\n      \"end\" : 173.100000,\\n      \"start\" : 172.770000,\\n      \"word\" : \"english\"\\n    }, {\\n      \"conf\" : 1.000000,\\n      \"end\" : 173.400000,\\n      \"start\" : 173.100000,\\n      \"word\" : \"dealing\"\\n    }, {\\n      \"conf\" : 1.000000,\\n      \"end\" : 173.550000,\\n      \"start\" : 173.400000,\\n      \"word\" : \"with\"\\n    }, {\\n      \"conf\" : 1.000000,\\n      \"end\" : 174.030000,\\n      \"start\" : 173.550000,\\n      \"word\" : \"inflation\"\\n    }, {\\n      \"conf\" : 0.789621,\\n      \"end\" : 174.630000,\\n      \"start\" : 174.300000,\\n      \"word\" : \"bells\"\\n    }, {\\n      \"conf\" : 1.000000,\\n      \"end\" : 174.870000,\\n      \"start\" : 174.630000,\\n      \"word\" : \"big\"\\n    }, {\\n      \"conf\" : 1.000000,\\n      \"end\" : 175.170000,\\n      \"start\" : 174.870000,\\n      \"word\" : \"worry\"\\n    }, {\\n      \"conf\" : 0.525034,\\n      \"end\" : 175.285430,\\n      \"start\" : 175.170000,\\n      \"word\" : \"that\"\\n    }, {\\n      \"conf\" : 1.000000,\\n      \"end\" : 175.530000,\\n      \"start\" : 175.285430,\\n      \"word\" : \"thing\"\\n    }, {\\n      \"conf\" : 1.000000,\\n      \"end\" : 175.921450,\\n      \"start\" : 175.530000,\\n      \"word\" : \"keeping\"\\n    }, {\\n      \"conf\" : 0.824600,\\n      \"end\" : 176.070000,\\n      \"start\" : 175.921450,\\n      \"word\" : \"him\"\\n    }, {\\n      \"conf\" : 1.000000,\\n      \"end\" : 176.250000,\\n      \"start\" : 176.070000,\\n      \"word\" : \"up\"\\n    }, {\\n      \"conf\" : 1.000000,\\n      \"end\" : 176.340000,\\n      \"start\" : 176.250000,\\n      \"word\" : \"at\"\\n    }, {\\n      \"conf\" : 1.000000,\\n      \"end\" : 176.670000,\\n      \"start\" : 176.370000,\\n      \"word\" : \"night\"\\n    }, {\\n      \"conf\" : 1.000000,\\n      \"end\" : 177.240000,\\n      \"start\" : 176.700000,\\n      \"word\" : \"price\"\\n    }, {\\n      \"conf\" : 1.000000,\\n      \"end\" : 178.380000,\\n      \"start\" : 177.300000,\\n      \"word\" : \"stability\"\\n    }, {\\n      \"conf\" : 1.000000,\\n      \"end\" : 178.650000,\\n      \"start\" : 178.410000,\\n      \"word\" : \"is\"\\n    }, {\\n      \"conf\" : 1.000000,\\n      \"end\" : 178.770000,\\n      \"start\" : 178.650000,\\n      \"word\" : \"the\"\\n    }, {\\n      \"conf\" : 0.423093,\\n      \"end\" : 179.130000,\\n      \"start\" : 178.770000,\\n      \"word\" : \"feds\"\\n    }, {\\n      \"conf\" : 1.000000,\\n      \"end\" : 179.640000,\\n      \"start\" : 179.171045,\\n      \"word\" : \"whole\"\\n    }, {\\n      \"conf\" : 0.708367,\\n      \"end\" : 180.300000,\\n      \"start\" : 179.640000,\\n      \"word\" : \"ballgame\"\\n    }, {\\n      \"conf\" : 1.000000,\\n      \"end\" : 180.480000,\\n      \"start\" : 180.300000,\\n      \"word\" : \"right\"\\n    }, {\\n      \"conf\" : 1.000000,\\n      \"end\" : 180.750000,\\n      \"start\" : 180.480000,\\n      \"word\" : \"now\"\\n    }, {\\n      \"conf\" : 0.274264,\\n      \"end\" : 181.140000,\\n      \"start\" : 180.780000,\\n      \"word\" : \"pal\"\\n    }, {\\n      \"conf\" : 1.000000,\\n      \"end\" : 181.620000,\\n      \"start\" : 181.146035,\\n      \"word\" : \"basically\"\\n    }, {\\n      \"conf\" : 1.000000,\\n      \"end\" : 182.010000,\\n      \"start\" : 181.620000,\\n      \"word\" : \"said\"\\n    }, {\\n      \"conf\" : 1.000000,\\n      \"end\" : 182.250000,\\n      \"start\" : 182.010000,\\n      \"word\" : \"as\"\\n    }, {\\n      \"conf\" : 1.000000,\\n      \"end\" : 182.610000,\\n      \"start\" : 182.250000,\\n      \"word\" : \"much\"\\n    }, {\\n      \"conf\" : 0.626881,\\n      \"end\" : 182.910000,\\n      \"start\" : 182.760000,\\n      \"word\" : \"to\"\\n    }, {\\n      \"conf\" : 0.626881,\\n      \"end\" : 183.150000,\\n      \"start\" : 182.910000,\\n      \"word\" : \"day\"\\n    }, {\\n      \"conf\" : 1.000000,\\n      \"end\" : 183.300000,\\n      \"start\" : 183.150000,\\n      \"word\" : \"or\"\\n    }, {\\n      \"conf\" : 1.000000,\\n      \"end\" : 183.510000,\\n      \"start\" : 183.300000,\\n      \"word\" : \"number\"\\n    }, {\\n      \"conf\" : 1.000000,\\n      \"end\" : 183.840000,\\n      \"start\" : 183.510000,\\n      \"word\" : \"two\"\\n    }],\\n  \"text\" : \"who are the funny thing about the big economic news of the day the fed raising interest rates have a percentage point was that there was only really one bit of actual news in the news and the interest rate increase wasn\\'t it you know it was common i know it was common wall street news common businesses knew it was common so on this fed day on this program something a little bit different j powell in his own words five of i\\'m his most used economic words from today\\'s press conference where number one of course it\\'s the biggie two percent inflation flesh and inflation inflation inflation place in english dealing with inflation bells big worry that thing keeping him up at night price stability is the feds whole ballgame right now pal basically said as much to day or number two\"\\n}'"
      ]
     },
     "execution_count": 16,
     "metadata": {},
     "output_type": "execute_result"
    }
   ],
   "source": [
    "marketplace_result"
   ]
  },
  {
   "cell_type": "code",
   "execution_count": 17,
   "id": "76f91f1d",
   "metadata": {},
   "outputs": [],
   "source": [
    "import json\n",
    "marketplace_json = json.loads(marketplace_result)"
   ]
  },
  {
   "cell_type": "code",
   "execution_count": 28,
   "id": "b48a2152",
   "metadata": {},
   "outputs": [
    {
     "data": {
      "text/plain": [
       "\"who are the funny thing about the big economic news of the day the fed raising interest rates have a percentage point was that there was only really one bit of actual news in the news and the interest rate increase wasn't it you know it was common i know it was common wall street news common businesses knew it was common so on this fed day on this program something a little bit different j powell in his own words five of i'm his most used economic words from today's press conference where number one of course it's the biggie two percent inflation flesh and inflation inflation inflation place in english dealing with inflation bells big worry that thing keeping him up at night price stability is the feds whole ballgame right now pal basically said as much to day or number two\""
      ]
     },
     "execution_count": 28,
     "metadata": {},
     "output_type": "execute_result"
    }
   ],
   "source": [
    "marketplace_json['text']"
   ]
  },
  {
   "cell_type": "markdown",
   "id": "ba202e40",
   "metadata": {},
   "source": [
    "Now we will add punctuations using vosk's vosk-recasepunc-en-0.22, available at https://alphacephei.com/vosk/models"
   ]
  },
  {
   "cell_type": "code",
   "execution_count": 32,
   "id": "3155d518",
   "metadata": {},
   "outputs": [
    {
     "name": "stderr",
     "output_type": "stream",
     "text": [
      "Downloading: 100%|██████████| 28.0/28.0 [00:00<00:00, 41.2kB/s]\n",
      "Downloading: 100%|██████████| 226k/226k [00:00<00:00, 1.32MB/s]\n",
      "Downloading: 100%|██████████| 455k/455k [00:00<00:00, 1.80MB/s]\n",
      "Downloading: 100%|██████████| 570/570 [00:00<00:00, 3.63MB/s]\n",
      "WARNING: reverting to cpu as cuda is not available\n",
      "Downloading: 100%|██████████| 420M/420M [00:08<00:00, 55.0MB/s] \n",
      "Some weights of the model checkpoint at bert-base-uncased were not used when initializing BertModel: ['cls.seq_relationship.bias', 'cls.predictions.decoder.weight', 'cls.seq_relationship.weight', 'cls.predictions.transform.LayerNorm.weight', 'cls.predictions.bias', 'cls.predictions.transform.dense.bias', 'cls.predictions.transform.LayerNorm.bias', 'cls.predictions.transform.dense.weight']\n",
      "- This IS expected if you are initializing BertModel from the checkpoint of a model trained on another task or with another architecture (e.g. initializing a BertForSequenceClassification model from a BertForPreTraining model).\n",
      "- This IS NOT expected if you are initializing BertModel from the checkpoint of a model that you expect to be exactly identical (initializing a BertForSequenceClassification model from a BertForSequenceClassification model).\n"
     ]
    },
    {
     "name": "stdout",
     "output_type": "stream",
     "text": [
      "Who are The funny thing about the big economic news of the day, the Fed raising interest rates have a percentage point was that there was only really one bit of actual news in the news. And the interest rate increase wasn ' t it. You know, it was common. I know it was common Wall Street news. Common businesses knew it was common. So on this Fed day on this program, something a little bit different. J Powell, in his own words, five of. I ' m his most used economic words from today ' s press conference, where number one, Of course, it ' s the biggie Two percent inflation flesh and inflation inflation inflation place in English. Dealing with inflation bells. Big worry, that thing keeping him up at night, Price stability is the Feds whole ballgame right now, Pal. Basically said as much to day or number two.\n",
      "\n"
     ]
    }
   ],
   "source": [
    "import subprocess\n",
    "\n",
    "# Assume your text without punctuation is stored in a variable named 'text_without_punctuation'\n",
    "text_without_punctuation = marketplace_json['text']\n",
    "\n",
    "\n",
    "command = 'python recasepunc/recasepunc.py predict recasepunc/checkpoint'\n",
    "\n",
    "# Run the command and get the output\n",
    "try:\n",
    "    result = subprocess.check_output(\n",
    "        command, \n",
    "        shell=True, \n",
    "        text=True, \n",
    "        input=text_without_punctuation\n",
    "    )\n",
    "    print(result)\n",
    "except subprocess.CalledProcessError as e:\n",
    "    print(\"Error occurred:\", e)\n",
    "\n"
   ]
  }
 ],
 "metadata": {
  "kernelspec": {
   "display_name": "Python 3 (ipykernel)",
   "language": "python",
   "name": "python3"
  },
  "language_info": {
   "codemirror_mode": {
    "name": "ipython",
    "version": 3
   },
   "file_extension": ".py",
   "mimetype": "text/x-python",
   "name": "python",
   "nbconvert_exporter": "python",
   "pygments_lexer": "ipython3",
   "version": "3.11.5"
  }
 },
 "nbformat": 4,
 "nbformat_minor": 5
}
